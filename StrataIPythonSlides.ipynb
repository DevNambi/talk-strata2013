{
 "metadata": {
  "name": "StrataIPythonSlides"
 },
 "nbformat": 3,
 "nbformat_minor": 0,
 "worksheets": [
  {
   "cells": [
    {
     "cell_type": "heading",
     "level": 1,
     "metadata": {
      "slideshow": {
       "slide_type": "slide"
      }
     },
     "source": [
      "The IPython Notebook"
     ]
    },
    {
     "cell_type": "heading",
     "level": 1,
     "metadata": {},
     "source": [
      "A Comprehensive Tool for Data Science"
     ]
    },
    {
     "cell_type": "heading",
     "level": 1,
     "metadata": {
      "slideshow": {
       "slide_type": "fragment"
      }
     },
     "source": [
      "Brian E. Granger"
     ]
    },
    {
     "cell_type": "heading",
     "level": 1,
     "metadata": {},
     "source": [
      "Strata 2013"
     ]
    },
    {
     "cell_type": "markdown",
     "metadata": {
      "slideshow": {
       "slide_type": "slide"
      }
     },
     "source": [
      "<img src=\"files/figures/calpoly_logo.png\" width=400/>"
     ]
    },
    {
     "cell_type": "markdown",
     "metadata": {
      "slideshow": {
       "slide_type": "-"
      }
     },
     "source": [
      "<img src=\"files/figures/logo.png\" width=400/>"
     ]
    },
    {
     "cell_type": "markdown",
     "metadata": {
      "slideshow": {
       "slide_type": "-"
      }
     },
     "source": [
      "<img src=\"files/figures/chronicle_logo.png\" width=400/>"
     ]
    },
    {
     "cell_type": "heading",
     "level": 1,
     "metadata": {
      "slideshow": {
       "slide_type": "slide"
      }
     },
     "source": [
      "About me"
     ]
    },
    {
     "cell_type": "markdown",
     "metadata": {
      "slideshow": {
       "slide_type": "fragment"
      }
     },
     "source": [
      "Physics Professor\n",
      "\n",
      "* I teach Physics and do research with undergraduates\n",
      "* [Cal Poly](http://www.calpoly.edu/), San Luis Obispo\n",
      "* Research in theoretical and computational quantum mechanics and quantum computing\n",
      "* A **user** of scientific and technical computing tools and libraries"
     ]
    },
    {
     "cell_type": "markdown",
     "metadata": {
      "slideshow": {
       "slide_type": "fragment"
      }
     },
     "source": [
      "Open source hacker\n",
      "\n",
      "* I am a **developer** of tools and libraries for scientific and technical computing\n",
      "* Creator and lead developer of the [IPython](http://ipython.org) Notebook\n",
      "* Creator of [PyZMQ](https://github.com/zeromq/pyzmq) (Python bindings to ZeroMQ)\n",
      "* Contributor to [SymPy](http://sympy.org/en/index.html) (symbolic mathematics library for Python)"
     ]
    },
    {
     "cell_type": "markdown",
     "metadata": {
      "slideshow": {
       "slide_type": "fragment"
      }
     },
     "source": [
      "CEO and co-founder\n",
      "\n",
      "* [Chronicle Labs](http://chronicle.io)\n",
      "* Early stage startup\n",
      "    - Co-founding with Fernando Perez and Min Ragan-Kelley\n",
      "* Building a web/cloud-based environment for interactive and collaborative computing:\n",
      "    - Technical and scientific computing\n",
      "    - Data science\n",
      "    - Education"
     ]
    },
    {
     "cell_type": "heading",
     "level": 1,
     "metadata": {
      "slideshow": {
       "slide_type": "slide"
      }
     },
     "source": [
      "Telling stories with code and data"
     ]
    },
    {
     "cell_type": "markdown",
     "metadata": {
      "slideshow": {
       "slide_type": "fragment"
      }
     },
     "source": [
      "Data science is about more than just code and data.  \n",
      "\n",
      "It is about **telling stories** with code and data.\n",
      "\n",
      "These data driven stories include other types of content:\n",
      "\n",
      "* Narrative text\n",
      "* Images and video\n",
      "* Equations\n",
      "* Plots and other visualizations"
     ]
    },
    {
     "cell_type": "markdown",
     "metadata": {
      "slideshow": {
       "slide_type": "fragment"
      }
     },
     "source": [
      "We go through different phases as we tell these stories:\n",
      "\n",
      "* Individual exploration\n",
      "* Collaborative development\n",
      "* Production execution\n",
      "* Debugging\n",
      "* Publication\n",
      "* Presentation\n",
      "* Education"
     ]
    },
    {
     "cell_type": "heading",
     "level": 1,
     "metadata": {
      "slideshow": {
       "slide_type": "slide"
      }
     },
     "source": [
      "Telling stories with code and data"
     ]
    },
    {
     "cell_type": "markdown",
     "metadata": {
      "slideshow": {
       "slide_type": "fragment"
      }
     },
     "source": [
      "We need to tell these stories in different contexts:\n",
      "\n",
      "* In collaboration with colleagues\n",
      "* In written publications\n",
      "* In talks/presentations\n",
      "* In the classroom\n",
      "* In meetings\n",
      "* In boardrooms\n",
      "* On the internet"
     ]
    },
    {
     "cell_type": "markdown",
     "metadata": {
      "slideshow": {
       "slide_type": "fragment"
      }
     },
     "source": [
      "How do you tell your data driven stories?"
     ]
    },
    {
     "cell_type": "heading",
     "level": 1,
     "metadata": {
      "slideshow": {
       "slide_type": "slide"
      }
     },
     "source": [
      "Telling stories with code and data is super painful"
     ]
    },
    {
     "cell_type": "markdown",
     "metadata": {
      "slideshow": {
       "slide_type": "fragment"
      }
     },
     "source": [
      "* A complex set of tools:\n",
      "    - Matlab Mathematica Excel Python R MPI Hadoop sed awk grep Perl Bash git svn Word LaTeX Powerpoint Keynote gnuplot C C++ Java Hive Pig\n",
      "    - Some of which are expensive and proprietary\n",
      "    - Users often have to install and maintain all of these tools on all of their computers"
     ]
    },
    {
     "cell_type": "markdown",
     "metadata": {
      "slideshow": {
       "slide_type": "fragment"
      }
     },
     "source": [
      "* Painful workflow:\n",
      "    - Complex pipeline of tools\n",
      "    - Difficult to reproduce\n",
      "    - Detached from the final presentation formats\n",
      "        - Do you ever have to manually copy and paste content into Word, PowerPoint, HTML?\n",
      "        - What if the content changes?\n",
      "    - Leads to an incomprehensible tangle of code, data, emails, documents, etc.\n",
      "    - Many of the products are not version control friendly"
     ]
    },
    {
     "cell_type": "markdown",
     "metadata": {
      "slideshow": {
       "slide_type": "fragment"
      }
     },
     "source": [
      "* Difficult to collaborate with others\n",
      "* Painful to communicate computational results"
     ]
    },
    {
     "cell_type": "heading",
     "level": 1,
     "metadata": {
      "slideshow": {
       "slide_type": "slide"
      }
     },
     "source": [
      "The IPython Notebook"
     ]
    },
    {
     "cell_type": "markdown",
     "metadata": {
      "slideshow": {
       "slide_type": "fragment"
      }
     },
     "source": [
      "The IPython Notebook is an open source (BSD) tool for telling **stories** with code and data that are:\n",
      "\n",
      "* Interactive\n",
      "* Exploratory\n",
      "* Collaborative\n",
      "* Open\n",
      "* Reproducible"
     ]
    },
    {
     "cell_type": "markdown",
     "metadata": {},
     "source": [
      "<img src=\"files/figures/ipython-notebook-specgram-2.png\" width=70%/>"
     ]
    },
    {
     "cell_type": "heading",
     "level": 1,
     "metadata": {
      "slideshow": {
       "slide_type": "slide"
      }
     },
     "source": [
      "The IPython project"
     ]
    },
    {
     "cell_type": "markdown",
     "metadata": {
      "slideshow": {
       "slide_type": "-"
      }
     },
     "source": [
      "<img src=\"files/figures/logo.png\" width=400/>"
     ]
    },
    {
     "cell_type": "markdown",
     "metadata": {},
     "source": [
      "* [IPython](http://ipython.org): open source (BSD) interactive computing environment in Python\n",
      "* History:\n",
      "    - Started in 2001 by Fernando Perez (BDFL)\n",
      "    - The project now has an [extremely dedicated and talented team](https://github.com/ipython/ipython/contributors)\n",
      "* $>$ 20 person years of development, $>$ 150 contributors\n",
      "* IPython is the de facto standard environment for interactive work in Python\n",
      "* Funded by:\n",
      "    - Mostly by volunteers\n",
      "    - NASA, DOD/DRC, NIH\n",
      "    - Microsoft, Enthought\n",
      "    - Alfred P. Sloan Foundation ($1.15 million dollar grant starting in Jan. 2013)\n",
      "* Components:\n",
      "    - IPython Kernel\n",
      "        - Stateful computation engine\n",
      "        - Runs code and returns results\n",
      "        - Uses language agnostic JSON based message protocol over ZeroMQ/WebSockets\n",
      "    - Frontends:\n",
      "        - Terminal Console\n",
      "        - Qt Console\n",
      "        - Notebook\n",
      "    - Parallel computing framework"
     ]
    },
    {
     "cell_type": "heading",
     "level": 1,
     "metadata": {
      "slideshow": {
       "slide_type": "slide"
      }
     },
     "source": [
      "Terminal Console"
     ]
    },
    {
     "cell_type": "markdown",
     "metadata": {},
     "source": [
      "This shows the classic terminal based IPython with Matplotlib for interactive plotting:\n",
      "\n",
      "<img src=\"/files/figures/pylab-screen.png\" width=80% />"
     ]
    },
    {
     "cell_type": "heading",
     "level": 1,
     "metadata": {
      "slideshow": {
       "slide_type": "slide"
      }
     },
     "source": [
      "Qt Console"
     ]
    },
    {
     "cell_type": "markdown",
     "metadata": {},
     "source": [
      "The Qt Console adds inline plotting, syntax highlighting, multiline editing, rich output display and the two process Kernel model.\n",
      "\n",
      "<img src=\"/files/figures/ipython_qtconsole2.png\" width=60% />"
     ]
    },
    {
     "cell_type": "heading",
     "level": 1,
     "metadata": {
      "slideshow": {
       "slide_type": "slide"
      }
     },
     "source": [
      "What is the IPython Notebook?"
     ]
    },
    {
     "cell_type": "heading",
     "level": 1,
     "metadata": {
      "slideshow": {
       "slide_type": "slide"
      }
     },
     "source": [
      "An open, JSON based document format"
     ]
    },
    {
     "cell_type": "code",
     "collapsed": false,
     "input": [
      "from IPython.nbformat import current\n",
      "with open('StrataIPythonSlides.ipynb') as f:\n",
      "    nb = current.read(f,'json')"
     ],
     "language": "python",
     "metadata": {
      "slideshow": {
       "slide_type": "fragment"
      }
     },
     "outputs": [],
     "prompt_number": 11
    },
    {
     "cell_type": "code",
     "collapsed": false,
     "input": [
      "nb.worksheets[0].cells[0:5]"
     ],
     "language": "python",
     "metadata": {
      "slideshow": {
       "slide_type": "fragment"
      }
     },
     "outputs": [
      {
       "output_type": "pyout",
       "prompt_number": 14,
       "text": [
        "[{u'cell_type': u'heading',\n",
        "  u'level': 1,\n",
        "  u'metadata': {u'slideshow': {u'slide_type': u'slide'}},\n",
        "  u'source': u'The IPython Notebook'},\n",
        " {u'cell_type': u'heading',\n",
        "  u'level': 1,\n",
        "  u'metadata': {},\n",
        "  u'source': u'A Comprehensive Tool for Data Science'},\n",
        " {u'cell_type': u'heading',\n",
        "  u'level': 1,\n",
        "  u'metadata': {u'slideshow': {u'slide_type': u'fragment'}},\n",
        "  u'source': u'Brian E. Granger'},\n",
        " {u'cell_type': u'heading',\n",
        "  u'level': 1,\n",
        "  u'metadata': {},\n",
        "  u'source': u'Strata 2013'},\n",
        " {u'cell_type': u'markdown',\n",
        "  u'metadata': {u'slideshow': {u'slide_type': u'slide'}},\n",
        "  u'source': u'<img src=\"files/figures/calpoly_logo.png\" width=400/>'}]"
       ]
      }
     ],
     "prompt_number": 14
    },
    {
     "cell_type": "heading",
     "level": 1,
     "metadata": {
      "slideshow": {
       "slide_type": "slide"
      }
     },
     "source": [
      "Notebook documents"
     ]
    },
    {
     "cell_type": "markdown",
     "metadata": {
      "slideshow": {
       "slide_type": "-"
      }
     },
     "source": [
      "* Are stored as files in your local directory\n",
      "* Can store:\n",
      "    - **Code in any language**\n",
      "    - Text (Markdown)\n",
      "    - Equations (LaTeX)\n",
      "    - Images\n",
      "    - Links to video\n",
      "    - HTML\n",
      "* Can be version controlled\n",
      "    - Change 1 line of code, get a 1 line diff\n",
      "* Can be viewed by anyone online without IPython installed (<http://nbviewer.ipython.org/>)\n",
      "* Can be exported to HTML, Markdown, reStructured Text, LaTeX, PDF\n",
      "* Can be viewed as slideshows with live computations"
     ]
    },
    {
     "cell_type": "heading",
     "level": 1,
     "metadata": {
      "slideshow": {
       "slide_type": "slide"
      }
     },
     "source": [
      "What is the IPython Notebook?"
     ]
    },
    {
     "cell_type": "heading",
     "level": 1,
     "metadata": {
      "slideshow": {
       "slide_type": "slide"
      }
     },
     "source": [
      "A web-based UI for writing and running code"
     ]
    },
    {
     "cell_type": "markdown",
     "metadata": {
      "slideshow": {
       "slide_type": "-"
      }
     },
     "source": [
      "We try to make writing code pleasant:\n",
      "\n",
      "* Tab completion\n",
      "* Integrated help\n",
      "* Syntax highlighting\n",
      "* Civilized multiline editing\n",
      "* Interactive shorthands (aliases, magics)"
     ]
    },
    {
     "cell_type": "code",
     "collapsed": false,
     "input": [
      "%pylab inline"
     ],
     "language": "python",
     "metadata": {
      "slideshow": {
       "slide_type": "slide"
      }
     },
     "outputs": [
      {
       "output_type": "stream",
       "stream": "stdout",
       "text": [
        "\n",
        "Welcome to pylab, a matplotlib-based Python environment [backend: module://IPython.kernel.zmq.pylab.backend_inline].\n",
        "For more information, type 'help(pylab)'.\n"
       ]
      }
     ],
     "prompt_number": 8
    },
    {
     "cell_type": "code",
     "collapsed": false,
     "input": [
      "plot(rand(50))"
     ],
     "language": "python",
     "metadata": {
      "slideshow": {
       "slide_type": "-"
      }
     },
     "outputs": [
      {
       "output_type": "pyout",
       "prompt_number": 8,
       "text": [
        "[<matplotlib.lines.Line2D at 0x1085167d0>]"
       ]
      },
      {
       "output_type": "display_data",
       "png": "[encoded data removed]",
       "text": [
        "<matplotlib.figure.Figure at 0x108444cd0>"
       ]
      }
     ],
     "prompt_number": 8
    },
    {
     "cell_type": "markdown",
     "metadata": {
      "slideshow": {
       "slide_type": "slide"
      }
     },
     "source": [
      "Not just Python code though! Though cell magics (`%%`) the Notebook supports running code in other languages:\n",
      "\n",
      "* R\n",
      "* Octave\n",
      "* Cython\n",
      "* Bash\n",
      "* Perl\n",
      "* Ruby\n",
      "* Julia\n",
      "* etc."
     ]
    },
    {
     "cell_type": "code",
     "collapsed": false,
     "input": [
      "%%bash\n",
      "echo \"Hi there Strata!\""
     ],
     "language": "python",
     "metadata": {
      "slideshow": {
       "slide_type": "fragment"
      }
     },
     "outputs": [
      {
       "output_type": "stream",
       "stream": "stdout",
       "text": [
        "Hi there Strata!\n"
       ]
      }
     ],
     "prompt_number": 9
    },
    {
     "cell_type": "markdown",
     "metadata": {
      "slideshow": {
       "slide_type": "fragment"
      }
     },
     "source": [
      "IPython message protocol and Notebook web application is language independent:\n",
      "    \n",
      "* The IPython Kernel can be replaced by kernels in other languages\n",
      "* Initial work has begun on Ruby, node.js\n",
      "* Plans for native R, Julia, MATLAB kernels\n",
      "\n",
      "This is not just about Python!  While we are passionate about Python, we deeply believe that data science is a multi-language enterprise and any tool that ignores that is fatally flawed."
     ]
    },
    {
     "cell_type": "heading",
     "level": 1,
     "metadata": {
      "slideshow": {
       "slide_type": "slide"
      }
     },
     "source": [
      "Live demo Notebooks"
     ]
    },
    {
     "cell_type": "markdown",
     "metadata": {},
     "source": [
      "In the live talk, I will show some live Notebook examples.\n",
      "\n",
      "If you are viewing this slide show later, here are static versions of IPython's demo notebooks:\n",
      "\n",
      "[IPython Demo Notebooks](https://github.com/ipython/ipython/tree/master/examples/notebooks#a-collection-of-notebooks-for-using-ipython-effectively)"
     ]
    },
    {
     "cell_type": "heading",
     "level": 1,
     "metadata": {
      "slideshow": {
       "slide_type": "slide"
      }
     },
     "source": [
      "What are users doing with IPython Notebooks?"
     ]
    },
    {
     "cell_type": "markdown",
     "metadata": {},
     "source": [
      "They are:\n",
      "\n",
      "* Telling data driven stories\n",
      "* Using the Notebook as their daily working environment for data science\n",
      "* Sharing their Notebooks on [GitHub](http://github.com) and [NBViewer](http://nbviewer.ipython.org)\n",
      "\n",
      "We have collected some of the highlights in our [notebook gallery](https://github.com/ipython/ipython/wiki/A-gallery-of-interesting-IPython-Notebooks)"
     ]
    },
    {
     "cell_type": "heading",
     "level": 1,
     "metadata": {
      "slideshow": {
       "slide_type": "slide"
      }
     },
     "source": [
      "An ecosystem of third party tools"
     ]
    },
    {
     "cell_type": "markdown",
     "metadata": {},
     "source": [
      "IPython provides an **open source foundation** for an ecosystem of tools and products\n",
      "\n",
      "* [Software Carpentry](http://software-carpentry.org/): helping scientist build better software using IPython Notebooks\n",
      "* Microsoft:\n",
      "    - Visual Studio Integration through [Python Tools for Visual Studio](http://pytools.codeplex.com/)\n",
      "    - Featured project on Microsoft Azure\n",
      "* Commercial Python distributions that include IPython:\n",
      "    - [Enthought Python Distribution (EPD)](http://www.enthought.com/products/epd.php)\n",
      "    - [Continuum Analytics Anaconda](https://store.continuum.io/)\n",
      "* Deploy the single user Notebook on Amazon\n",
      "    - [StarCluster](http://star.mit.edu/cluster/)\n",
      "    - [Notebook Cloud](https://notebookcloud.appspot.com/docs)\n",
      "* Cloud hosted Notebooks:\n",
      "    - [PiCloud](http://www.picloud.com/)\n",
      "    - [Wakari](http://continuum.io/wakari.html)\n",
      "* Other IPython Frontends:\n",
      "    - Vim frontend: https://github.com/ivanov/vim-ipython\n",
      "    - Emacs Notebook frontend: https://github.com/tkf/emacs-ipython-notebook\n",
      "    - vIPer: https://github.com/damianavila/vIPer"
     ]
    },
    {
     "cell_type": "heading",
     "level": 1,
     "metadata": {
      "slideshow": {
       "slide_type": "slide"
      }
     },
     "source": [
      "The future"
     ]
    },
    {
     "cell_type": "markdown",
     "metadata": {},
     "source": [
      "* Notebook conversion (2012)\n",
      "    - To and from a wide range of formats\n",
      "    - HTML, LaTeX, PDF, Markdown, reStructured Text\n",
      "* Interactive widgets (2012)\n",
      "    - The IPython kernel already knows how to send JSON representations of objects to the browser\n",
      "    - We are developing an architecture that will allow interactive JavaScript widgets and Python objects to pass JSON data back and forth.\n",
      "    - Imagine all of your d3 visualizations backed by the power of Python/NumPy/SciPy/Pandas/etc.\n",
      "    - Automatic generation of UI controls\n",
      "* Multiuser Notebook server (2013)\n",
      "    - Small to medium groups of users\n",
      "    - Trusted users - you would give these folks shell accounts\n",
      "\n",
      "See our [development roadmap](https://github.com/ipython/ipython/wiki/Roadmap:-IPython) for details"
     ]
    },
    {
     "cell_type": "heading",
     "level": 1,
     "metadata": {
      "slideshow": {
       "slide_type": "slide"
      }
     },
     "source": [
      "More information"
     ]
    },
    {
     "cell_type": "markdown",
     "metadata": {},
     "source": [
      "* Visit the [IPython website](http://ipython.org/index.html)\n",
      "* IPython is completely open source so you can download it and play with it today\n",
      "* The IPython Notebook is a single user web application that you run on your local computer\n",
      "\n",
      "        $ipython notebook\n",
      "\n",
      "* [Quick installation instructions](http://ipython.org/install.html)\n",
      "* Strata Office Hours\n",
      "    - Myself and Wes McKinney (author of Pandas)\n",
      "    - Today, 3 pm, Expo Hall, Table B\n",
      "    - All things related to Python and data science\n",
      "* Strate BOF on Python\n",
      "    - Thursday, lunch, Expo Hall, Table 6\n",
      "* I am ellisonbg on GitHub, Twitter, Gmail"
     ]
    },
    {
     "cell_type": "heading",
     "level": 1,
     "metadata": {
      "slideshow": {
       "slide_type": "slide"
      }
     },
     "source": [
      "Chronicle Labs"
     ]
    },
    {
     "cell_type": "markdown",
     "metadata": {
      "slideshow": {
       "slide_type": "-"
      }
     },
     "source": [
      "<img src=\"files/figures/chronicle_logo.png\" width=400/>"
     ]
    },
    {
     "cell_type": "markdown",
     "metadata": {},
     "source": [
      "[chronicle.io](http://chronicle.io)\n",
      "\n",
      "Team: founded by the folks who created and lead the IPython project\n",
      "\n",
      "* Brian Granger (CEO and co-founder)\n",
      "* Fernando Perez (co-founder)\n",
      "* Min Ragan-Kelley (co-founder)\n",
      "* Stefan van der Walt (senior software developer)\n",
      "\n",
      "Vision: Simple, collaborative and interactive computing in the cloud based on the IPython Notebook\n",
      "\n",
      "More details coming soon...visit our website and sign up for further information...\n",
      "\n",
      "\n",
      "\n",
      "\n"
     ]
    },
    {
     "cell_type": "heading",
     "level": 1,
     "metadata": {
      "slideshow": {
       "slide_type": "slide"
      }
     },
     "source": [
      "Formatting"
     ]
    },
    {
     "cell_type": "code",
     "collapsed": false,
     "input": [
      "from IPython.display import HTML\n",
      "HTML(\"\"\"\n",
      "<style> \n",
      "\n",
      "div.cell {\n",
      "  width: 940px;\n",
      "  margin-left: auto;\n",
      "  margin-right: auto;\n",
      "}\n",
      "\n",
      ".rendered_html {\n",
      "  font-size: 123%;\n",
      "}\n",
      "\n",
      "</style>\"\"\")"
     ],
     "language": "python",
     "metadata": {},
     "outputs": [
      {
       "html": [
        "\n",
        "<style> \n",
        "\n",
        "div.cell {\n",
        "  width: 940px;\n",
        "  margin-left: auto;\n",
        "  margin-right: auto;\n",
        "}\n",
        "\n",
        ".rendered_html {\n",
        "  font-size: 123%;\n",
        "}\n",
        "\n",
        "</style>"
       ],
       "output_type": "pyout",
       "prompt_number": 10,
       "text": [
        "<IPython.core.display.HTML at 0x10ab09cd0>"
       ]
      }
     ],
     "prompt_number": 10
    },
    {
     "cell_type": "code",
     "collapsed": false,
     "input": [],
     "language": "python",
     "metadata": {},
     "outputs": []
    }
   ],
   "metadata": {}
  }
 ]
}